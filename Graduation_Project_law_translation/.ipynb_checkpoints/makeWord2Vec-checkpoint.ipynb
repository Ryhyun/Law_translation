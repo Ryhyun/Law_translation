{
 "cells": [
  {
   "cell_type": "code",
   "execution_count": 4,
   "metadata": {},
   "outputs": [],
   "source": [
    "import scrapy\n",
    "\n"
   ]
  },
  {
   "cell_type": "code",
   "execution_count": 20,
   "metadata": {},
   "outputs": [],
   "source": [
    "class exampleSpider(scrapy.Spider):\n",
    "    name = 'kinspider' # scrapy의 spider를 실행하기 위해 필요한 매개변수\n",
    "    dirId = '602' # 크롤링하고자 하는 카테고리\n",
    "    kin_urls = 'http://kin.naver.com/qna/list.nhn?dirId=' + dirId # 네이버 지식인 기본 URL\n",
    "    start_urls = [kin_urls]\n",
    "\n",
    "    # 최신 1000개의 질문 목록을 가져온다.\n",
    "    def parse(self, response):\n",
    "        # 현재 목록에 각 질문의 링크를 타고 들어간다. parse_doc에서 나머지를 처리함.\n",
    "        for item in response.css('td.title a'):\n",
    "            yield response.follow(item, self.parse_doc)\n",
    "\n",
    "        # 다음 페이지를 자동으로 넘어간다. 중복된 페이지는 scrapy가 url을 체크해서 알아서 처리해줌.\n",
    "        for next_page in response.css('div.paginate > a'):\n",
    "            yield response.follow(next_page, self.parse)\n",
    "\n",
    "    # 각 질문의 링크에 들어가서 질문의 본문을 각각 txt 파일로 저장한다.\n",
    "    def parse_doc(self, response):\n",
    "        docId = response.request.url.split(\"docId=\")[-1]\n",
    "        title = response.css('span.title_text ::text').extract_first().strip().encode('utf8')\n",
    "        question_contents = response.css('div#contents_layer_0 div._endContentsText ::text').extract()\n",
    "        answer_contents = response.css('div#contents_layer_1 div._endContentsText ::text').extract()\n",
    "        \n",
    "        question = \"\\n\".encode('utf8')\n",
    "        answer = \"\\n\".encode('utf8')\n",
    "        \n",
    "        for q in question_contents:\n",
    "            question += q.strip().encode('utf8')\n",
    "            question += \"\\n\".encode('utf8')\n",
    "            \n",
    "        for a in answer_contents:\n",
    "            answer += a.strip().encode('utf8')\n",
    "            answer += \"\\n\".encode('utf8')\n",
    "            \n",
    "        filename = 'raw/%s.txt' % docId\n",
    "        with open(filename, 'wb') as f:\n",
    "            f.write(title)\n",
    "            f.write(question)\n",
    "            f.write(answer)"
   ]
  },
  {
   "cell_type": "code",
   "execution_count": 7,
   "metadata": {},
   "outputs": [],
   "source": []
  },
  {
   "cell_type": "code",
   "execution_count": 15,
   "metadata": {},
   "outputs": [
    {
     "name": "stdout",
     "output_type": "stream",
     "text": [
      "<generator object exampleSpider.parse at 0x10ea86c50>\n"
     ]
    }
   ],
   "source": []
  },
  {
   "cell_type": "code",
   "execution_count": 18,
   "metadata": {},
   "outputs": [
    {
     "ename": "AttributeError",
     "evalue": "'generator' object has no attribute 'request'",
     "output_type": "error",
     "traceback": [
      "\u001b[0;31m---------------------------------------------------------------------------\u001b[0m",
      "\u001b[0;31mAttributeError\u001b[0m                            Traceback (most recent call last)",
      "\u001b[0;32m<ipython-input-18-cf776725d88a>\u001b[0m in \u001b[0;36m<module>\u001b[0;34m()\u001b[0m\n\u001b[0;32m----> 1\u001b[0;31m \u001b[0mprint\u001b[0m\u001b[0;34m(\u001b[0m\u001b[0ma\u001b[0m\u001b[0;34m.\u001b[0m\u001b[0mparse_doc\u001b[0m\u001b[0;34m(\u001b[0m\u001b[0ma\u001b[0m\u001b[0;34m.\u001b[0m\u001b[0mparse\u001b[0m\u001b[0;34m(\u001b[0m\u001b[0ma\u001b[0m\u001b[0;34m.\u001b[0m\u001b[0mstart_urls\u001b[0m\u001b[0;34m)\u001b[0m\u001b[0;34m)\u001b[0m\u001b[0;34m)\u001b[0m\u001b[0;34m\u001b[0m\u001b[0m\n\u001b[0m",
      "\u001b[0;32m<ipython-input-6-deb523a961e5>\u001b[0m in \u001b[0;36mparse_doc\u001b[0;34m(self, response)\u001b[0m\n\u001b[1;32m     17\u001b[0m     \u001b[0;31m# 각 질문의 링크에 들어가서 질문의 본문을 각각 txt 파일로 저장한다.\u001b[0m\u001b[0;34m\u001b[0m\u001b[0;34m\u001b[0m\u001b[0m\n\u001b[1;32m     18\u001b[0m     \u001b[0;32mdef\u001b[0m \u001b[0mparse_doc\u001b[0m\u001b[0;34m(\u001b[0m\u001b[0mself\u001b[0m\u001b[0;34m,\u001b[0m \u001b[0mresponse\u001b[0m\u001b[0;34m)\u001b[0m\u001b[0;34m:\u001b[0m\u001b[0;34m\u001b[0m\u001b[0m\n\u001b[0;32m---> 19\u001b[0;31m         \u001b[0mdocId\u001b[0m \u001b[0;34m=\u001b[0m \u001b[0mresponse\u001b[0m\u001b[0;34m.\u001b[0m\u001b[0mrequest\u001b[0m\u001b[0;34m.\u001b[0m\u001b[0murl\u001b[0m\u001b[0;34m.\u001b[0m\u001b[0msplit\u001b[0m\u001b[0;34m(\u001b[0m\u001b[0;34m\"docId=\"\u001b[0m\u001b[0;34m)\u001b[0m\u001b[0;34m[\u001b[0m\u001b[0;34m-\u001b[0m\u001b[0;36m1\u001b[0m\u001b[0;34m]\u001b[0m\u001b[0;34m\u001b[0m\u001b[0m\n\u001b[0m\u001b[1;32m     20\u001b[0m         \u001b[0mtitle\u001b[0m \u001b[0;34m=\u001b[0m \u001b[0mresponse\u001b[0m\u001b[0;34m.\u001b[0m\u001b[0mcss\u001b[0m\u001b[0;34m(\u001b[0m\u001b[0;34m'span.title_text ::text'\u001b[0m\u001b[0;34m)\u001b[0m\u001b[0;34m.\u001b[0m\u001b[0mextract_first\u001b[0m\u001b[0;34m(\u001b[0m\u001b[0;34m)\u001b[0m\u001b[0;34m.\u001b[0m\u001b[0mstrip\u001b[0m\u001b[0;34m(\u001b[0m\u001b[0;34m)\u001b[0m\u001b[0;34m.\u001b[0m\u001b[0mencode\u001b[0m\u001b[0;34m(\u001b[0m\u001b[0;34m'utf8'\u001b[0m\u001b[0;34m)\u001b[0m\u001b[0;34m\u001b[0m\u001b[0m\n\u001b[1;32m     21\u001b[0m         \u001b[0mquestion_contents\u001b[0m \u001b[0;34m=\u001b[0m \u001b[0mresponse\u001b[0m\u001b[0;34m.\u001b[0m\u001b[0mcss\u001b[0m\u001b[0;34m(\u001b[0m\u001b[0;34m'div#contents_layer_0 div._endContentsText ::text'\u001b[0m\u001b[0;34m)\u001b[0m\u001b[0;34m.\u001b[0m\u001b[0mextract\u001b[0m\u001b[0;34m(\u001b[0m\u001b[0;34m)\u001b[0m\u001b[0;34m\u001b[0m\u001b[0m\n",
      "\u001b[0;31mAttributeError\u001b[0m: 'generator' object has no attribute 'request'"
     ]
    }
   ],
   "source": []
  },
  {
   "cell_type": "code",
   "execution_count": null,
   "metadata": {},
   "outputs": [],
   "source": []
  }
 ],
 "metadata": {
  "kernelspec": {
   "display_name": "Python 3",
   "language": "python",
   "name": "python3"
  },
  "language_info": {
   "codemirror_mode": {
    "name": "ipython",
    "version": 3
   },
   "file_extension": ".py",
   "mimetype": "text/x-python",
   "name": "python",
   "nbconvert_exporter": "python",
   "pygments_lexer": "ipython3",
   "version": "3.6.1"
  }
 },
 "nbformat": 4,
 "nbformat_minor": 2
}
